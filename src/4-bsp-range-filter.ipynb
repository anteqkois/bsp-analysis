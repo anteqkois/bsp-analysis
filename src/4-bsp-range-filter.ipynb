{
 "cells": [
  {
   "cell_type": "code",
   "execution_count": null,
   "metadata": {},
   "outputs": [],
   "source": [
    "!pip3 install numpy pandas scipy matplotlib\n",
    "%load_ext autoreload\n",
    "%autoreload 2\n",
    "\n",
    "from utils.trade import trade_simulation_test_parameters, trade_simulation"
   ]
  },
  {
   "cell_type": "code",
   "execution_count": null,
   "metadata": {},
   "outputs": [],
   "source": [
    "trade_simulation(\n",
    "    interval='1m',\n",
    "    ticker='TAOUSDT',\n",
    "    # filter_min_interval_gap_to_skip=30,\n",
    "    # cut_potential_trades=3000,\n",
    "    # file_name='trades/trades_base',\n",
    "    show_statistic=True,\n",
    "    long_signal_generator_name='long_signal_min_bsp',\n",
    "    trade_options={\n",
    "        \"back_interval_amount_for_bsp\": 1650,\n",
    "        \"past_interval_percentage\": 120,\n",
    "        \"past_percentage_min_dropdown\": -2.5,\n",
    "        \"tsl_trailing_stop_loss\": 5,\n",
    "        \"tsl_stop_loss\": 10,\n",
    "        \"tsl_take_profit\": 6,\n",
    "        \"use_avg_price\": False,\n",
    "        \"show_chart\": True,\n",
    "        \"use_points_above_max\": False,\n",
    "        \"chart_title\": None\n",
    "    }\n",
    ")"
   ]
  },
  {
   "cell_type": "code",
   "execution_count": null,
   "metadata": {},
   "outputs": [],
   "source": [
    "trade_simulation_test_parameters(\n",
    "    interval='1m',\n",
    "    ticker='TAOUSDT',\n",
    "    # filter_min_interval_gap_to_skip=30,\n",
    "    # cut_potential_trades=3000,\n",
    "    # file_name='trades/trades_base',\n",
    "    show_statistic=True,\n",
    "    long_signal_generator_name='long_signal_min_bsp',\n",
    "    trade_options={\n",
    "        \"back_interval_amount_for_bsp\":[500, 1000, 1350, 1650, 2000, 2400, 2800],\n",
    "        \"past_interval_percentage\": 120,\n",
    "        \"past_percentage_min_dropdown\": -2.5,\n",
    "        \"tsl_trailing_stop_loss\": 5,\n",
    "        \"tsl_stop_loss\": 10,\n",
    "        \"tsl_take_profit\": 6,\n",
    "        \"use_avg_price\": False,\n",
    "        \"show_chart\": True,\n",
    "        \"use_points_above_max\": False,\n",
    "        \"chart_title\": None\n",
    "    }\n",
    ")"
   ]
  }
 ],
 "metadata": {
  "kernelspec": {
   "display_name": "Python 3",
   "language": "python",
   "name": "python3"
  },
  "language_info": {
   "codemirror_mode": {
    "name": "ipython",
    "version": 3
   },
   "file_extension": ".py",
   "mimetype": "text/x-python",
   "name": "python",
   "nbconvert_exporter": "python",
   "pygments_lexer": "ipython3",
   "version": "3.11.8"
  }
 },
 "nbformat": 4,
 "nbformat_minor": 2
}
